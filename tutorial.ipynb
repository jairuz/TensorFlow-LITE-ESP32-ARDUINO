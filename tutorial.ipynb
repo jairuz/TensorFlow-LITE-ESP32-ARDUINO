{
  "nbformat": 4,
  "nbformat_minor": 0,
  "metadata": {
    "colab": {
      "name": "tutorial.ipynb",
      "provenance": [],
      "collapsed_sections": [],
      "authorship_tag": "ABX9TyMw6dARkN3Ev48lb6hbRPOL",
      "include_colab_link": true
    },
    "kernelspec": {
      "name": "python3",
      "display_name": "Python 3"
    }
  },
  "cells": [
    {
      "cell_type": "markdown",
      "metadata": {
        "id": "view-in-github",
        "colab_type": "text"
      },
      "source": [
        "<a href=\"https://colab.research.google.com/github/sandroormeno/TensorFlow-LITE-ESP32-ARDUINO/blob/master/tutorial.ipynb\" target=\"_parent\"><img src=\"https://colab.research.google.com/assets/colab-badge.svg\" alt=\"Open In Colab\"/></a>"
      ]
    },
    {
      "cell_type": "code",
      "metadata": {
        "id": "dFeQNrR9cvNQ",
        "colab_type": "code",
        "colab": {
          "base_uri": "https://localhost:8080/",
          "height": 989
        },
        "outputId": "33fffd3c-00e9-40cd-a113-128825695231"
      },
      "source": [
        "!pip install tensorflow==2.1.0"
      ],
      "execution_count": 1,
      "outputs": [
        {
          "output_type": "stream",
          "text": [
            "Collecting tensorflow==2.1.0\n",
            "\u001b[?25l  Downloading https://files.pythonhosted.org/packages/85/d4/c0cd1057b331bc38b65478302114194bd8e1b9c2bbc06e300935c0e93d90/tensorflow-2.1.0-cp36-cp36m-manylinux2010_x86_64.whl (421.8MB)\n",
            "\u001b[K     |████████████████████████████████| 421.8MB 36kB/s \n",
            "\u001b[?25hRequirement already satisfied: six>=1.12.0 in /usr/local/lib/python3.6/dist-packages (from tensorflow==2.1.0) (1.12.0)\n",
            "Requirement already satisfied: wheel>=0.26; python_version >= \"3\" in /usr/local/lib/python3.6/dist-packages (from tensorflow==2.1.0) (0.34.2)\n",
            "Requirement already satisfied: astor>=0.6.0 in /usr/local/lib/python3.6/dist-packages (from tensorflow==2.1.0) (0.8.1)\n",
            "Collecting tensorflow-estimator<2.2.0,>=2.1.0rc0\n",
            "\u001b[?25l  Downloading https://files.pythonhosted.org/packages/18/90/b77c328a1304437ab1310b463e533fa7689f4bfc41549593056d812fab8e/tensorflow_estimator-2.1.0-py2.py3-none-any.whl (448kB)\n",
            "\u001b[K     |████████████████████████████████| 450kB 35.6MB/s \n",
            "\u001b[?25hRequirement already satisfied: wrapt>=1.11.1 in /usr/local/lib/python3.6/dist-packages (from tensorflow==2.1.0) (1.12.1)\n",
            "Requirement already satisfied: absl-py>=0.7.0 in /usr/local/lib/python3.6/dist-packages (from tensorflow==2.1.0) (0.9.0)\n",
            "Requirement already satisfied: tensorboard<2.2.0,>=2.1.0 in /usr/local/lib/python3.6/dist-packages (from tensorflow==2.1.0) (2.1.1)\n",
            "Requirement already satisfied: keras-preprocessing>=1.1.0 in /usr/local/lib/python3.6/dist-packages (from tensorflow==2.1.0) (1.1.0)\n",
            "Requirement already satisfied: google-pasta>=0.1.6 in /usr/local/lib/python3.6/dist-packages (from tensorflow==2.1.0) (0.2.0)\n",
            "Collecting gast==0.2.2\n",
            "  Downloading https://files.pythonhosted.org/packages/4e/35/11749bf99b2d4e3cceb4d55ca22590b0d7c2c62b9de38ac4a4a7f4687421/gast-0.2.2.tar.gz\n",
            "Requirement already satisfied: termcolor>=1.1.0 in /usr/local/lib/python3.6/dist-packages (from tensorflow==2.1.0) (1.1.0)\n",
            "Requirement already satisfied: grpcio>=1.8.6 in /usr/local/lib/python3.6/dist-packages (from tensorflow==2.1.0) (1.27.2)\n",
            "Requirement already satisfied: scipy==1.4.1; python_version >= \"3\" in /usr/local/lib/python3.6/dist-packages (from tensorflow==2.1.0) (1.4.1)\n",
            "Requirement already satisfied: opt-einsum>=2.3.2 in /usr/local/lib/python3.6/dist-packages (from tensorflow==2.1.0) (3.2.0)\n",
            "Requirement already satisfied: numpy<2.0,>=1.16.0 in /usr/local/lib/python3.6/dist-packages (from tensorflow==2.1.0) (1.18.2)\n",
            "Requirement already satisfied: protobuf>=3.8.0 in /usr/local/lib/python3.6/dist-packages (from tensorflow==2.1.0) (3.10.0)\n",
            "Requirement already satisfied: keras-applications>=1.0.8 in /usr/local/lib/python3.6/dist-packages (from tensorflow==2.1.0) (1.0.8)\n",
            "Requirement already satisfied: markdown>=2.6.8 in /usr/local/lib/python3.6/dist-packages (from tensorboard<2.2.0,>=2.1.0->tensorflow==2.1.0) (3.2.1)\n",
            "Requirement already satisfied: werkzeug>=0.11.15 in /usr/local/lib/python3.6/dist-packages (from tensorboard<2.2.0,>=2.1.0->tensorflow==2.1.0) (1.0.0)\n",
            "Requirement already satisfied: google-auth-oauthlib<0.5,>=0.4.1 in /usr/local/lib/python3.6/dist-packages (from tensorboard<2.2.0,>=2.1.0->tensorflow==2.1.0) (0.4.1)\n",
            "Requirement already satisfied: google-auth<2,>=1.6.3 in /usr/local/lib/python3.6/dist-packages (from tensorboard<2.2.0,>=2.1.0->tensorflow==2.1.0) (1.7.2)\n",
            "Requirement already satisfied: requests<3,>=2.21.0 in /usr/local/lib/python3.6/dist-packages (from tensorboard<2.2.0,>=2.1.0->tensorflow==2.1.0) (2.21.0)\n",
            "Requirement already satisfied: setuptools>=41.0.0 in /usr/local/lib/python3.6/dist-packages (from tensorboard<2.2.0,>=2.1.0->tensorflow==2.1.0) (46.0.0)\n",
            "Requirement already satisfied: h5py in /usr/local/lib/python3.6/dist-packages (from keras-applications>=1.0.8->tensorflow==2.1.0) (2.10.0)\n",
            "Requirement already satisfied: requests-oauthlib>=0.7.0 in /usr/local/lib/python3.6/dist-packages (from google-auth-oauthlib<0.5,>=0.4.1->tensorboard<2.2.0,>=2.1.0->tensorflow==2.1.0) (1.3.0)\n",
            "Requirement already satisfied: pyasn1-modules>=0.2.1 in /usr/local/lib/python3.6/dist-packages (from google-auth<2,>=1.6.3->tensorboard<2.2.0,>=2.1.0->tensorflow==2.1.0) (0.2.8)\n",
            "Requirement already satisfied: rsa<4.1,>=3.1.4 in /usr/local/lib/python3.6/dist-packages (from google-auth<2,>=1.6.3->tensorboard<2.2.0,>=2.1.0->tensorflow==2.1.0) (4.0)\n",
            "Requirement already satisfied: cachetools<3.2,>=2.0.0 in /usr/local/lib/python3.6/dist-packages (from google-auth<2,>=1.6.3->tensorboard<2.2.0,>=2.1.0->tensorflow==2.1.0) (3.1.1)\n",
            "Requirement already satisfied: idna<2.9,>=2.5 in /usr/local/lib/python3.6/dist-packages (from requests<3,>=2.21.0->tensorboard<2.2.0,>=2.1.0->tensorflow==2.1.0) (2.8)\n",
            "Requirement already satisfied: urllib3<1.25,>=1.21.1 in /usr/local/lib/python3.6/dist-packages (from requests<3,>=2.21.0->tensorboard<2.2.0,>=2.1.0->tensorflow==2.1.0) (1.24.3)\n",
            "Requirement already satisfied: chardet<3.1.0,>=3.0.2 in /usr/local/lib/python3.6/dist-packages (from requests<3,>=2.21.0->tensorboard<2.2.0,>=2.1.0->tensorflow==2.1.0) (3.0.4)\n",
            "Requirement already satisfied: certifi>=2017.4.17 in /usr/local/lib/python3.6/dist-packages (from requests<3,>=2.21.0->tensorboard<2.2.0,>=2.1.0->tensorflow==2.1.0) (2019.11.28)\n",
            "Requirement already satisfied: oauthlib>=3.0.0 in /usr/local/lib/python3.6/dist-packages (from requests-oauthlib>=0.7.0->google-auth-oauthlib<0.5,>=0.4.1->tensorboard<2.2.0,>=2.1.0->tensorflow==2.1.0) (3.1.0)\n",
            "Requirement already satisfied: pyasn1<0.5.0,>=0.4.6 in /usr/local/lib/python3.6/dist-packages (from pyasn1-modules>=0.2.1->google-auth<2,>=1.6.3->tensorboard<2.2.0,>=2.1.0->tensorflow==2.1.0) (0.4.8)\n",
            "Building wheels for collected packages: gast\n",
            "  Building wheel for gast (setup.py) ... \u001b[?25l\u001b[?25hdone\n",
            "  Created wheel for gast: filename=gast-0.2.2-cp36-none-any.whl size=7540 sha256=039ff8f31ba1294f41aea85bec6746b37d83f6b6f01376a3d218a4b5cdfa0a25\n",
            "  Stored in directory: /root/.cache/pip/wheels/5c/2e/7e/a1d4d4fcebe6c381f378ce7743a3ced3699feb89bcfbdadadd\n",
            "Successfully built gast\n",
            "Installing collected packages: tensorflow-estimator, gast, tensorflow\n",
            "  Found existing installation: tensorflow-estimator 2.2.0rc0\n",
            "    Uninstalling tensorflow-estimator-2.2.0rc0:\n",
            "      Successfully uninstalled tensorflow-estimator-2.2.0rc0\n",
            "  Found existing installation: gast 0.3.3\n",
            "    Uninstalling gast-0.3.3:\n",
            "      Successfully uninstalled gast-0.3.3\n",
            "  Found existing installation: tensorflow 2.2.0rc1\n",
            "    Uninstalling tensorflow-2.2.0rc1:\n",
            "      Successfully uninstalled tensorflow-2.2.0rc1\n",
            "Successfully installed gast-0.2.2 tensorflow-2.1.0 tensorflow-estimator-2.1.0\n"
          ],
          "name": "stdout"
        }
      ]
    },
    {
      "cell_type": "code",
      "metadata": {
        "id": "4MNbpAbrFjmZ",
        "colab_type": "code",
        "colab": {}
      },
      "source": [
        "%tensorflow_version 2.x"
      ],
      "execution_count": 0,
      "outputs": []
    },
    {
      "cell_type": "code",
      "metadata": {
        "id": "OpJ4gkpvFxqO",
        "colab_type": "code",
        "outputId": "ad589a11-e71a-46e9-c45c-5902da6a8254",
        "colab": {
          "base_uri": "https://localhost:8080/",
          "height": 34
        }
      },
      "source": [
        "from __future__ import absolute_import, division, print_function, unicode_literals\n",
        "import pandas\n",
        "import numpy as np\n",
        "import tensorflow as tf\n",
        "from tensorflow.keras import layers\n",
        "from keras.utils import to_categorical, np_utils\n",
        "from sklearn.model_selection import train_test_split\n",
        "from keras import backend as K"
      ],
      "execution_count": 2,
      "outputs": [
        {
          "output_type": "stream",
          "text": [
            "Using TensorFlow backend.\n"
          ],
          "name": "stderr"
        }
      ]
    },
    {
      "cell_type": "code",
      "metadata": {
        "id": "tXj4VWWiF1QB",
        "colab_type": "code",
        "outputId": "f733b0c6-3bba-4a35-ee55-4189c2954ed8",
        "colab": {
          "base_uri": "https://localhost:8080/",
          "height": 34
        }
      },
      "source": [
        "print(\"TensorFlow version: {}\".format(tf.__version__))"
      ],
      "execution_count": 3,
      "outputs": [
        {
          "output_type": "stream",
          "text": [
            "TensorFlow version: 2.1.0\n"
          ],
          "name": "stdout"
        }
      ]
    },
    {
      "cell_type": "code",
      "metadata": {
        "id": "js2CIbf-F35z",
        "colab_type": "code",
        "outputId": "b516583e-4799-4135-da41-dd2a99ffabc4",
        "colab": {
          "base_uri": "https://localhost:8080/",
          "height": 204
        }
      },
      "source": [
        "url = \"https://raw.githubusercontent.com/sandroormeno/Tensorflow-basic-examples/master/datos/iris.csv\"\n",
        "datosIris = pandas.read_csv(url)\n",
        "datosIris.head()"
      ],
      "execution_count": 4,
      "outputs": [
        {
          "output_type": "execute_result",
          "data": {
            "text/html": [
              "<div>\n",
              "<style scoped>\n",
              "    .dataframe tbody tr th:only-of-type {\n",
              "        vertical-align: middle;\n",
              "    }\n",
              "\n",
              "    .dataframe tbody tr th {\n",
              "        vertical-align: top;\n",
              "    }\n",
              "\n",
              "    .dataframe thead th {\n",
              "        text-align: right;\n",
              "    }\n",
              "</style>\n",
              "<table border=\"1\" class=\"dataframe\">\n",
              "  <thead>\n",
              "    <tr style=\"text-align: right;\">\n",
              "      <th></th>\n",
              "      <th>sepal_length</th>\n",
              "      <th>sepal_width</th>\n",
              "      <th>petal_length</th>\n",
              "      <th>petal_width</th>\n",
              "      <th>species</th>\n",
              "    </tr>\n",
              "  </thead>\n",
              "  <tbody>\n",
              "    <tr>\n",
              "      <th>0</th>\n",
              "      <td>5.1</td>\n",
              "      <td>3.5</td>\n",
              "      <td>1.4</td>\n",
              "      <td>0.2</td>\n",
              "      <td>Iris-setosa</td>\n",
              "    </tr>\n",
              "    <tr>\n",
              "      <th>1</th>\n",
              "      <td>4.9</td>\n",
              "      <td>3.0</td>\n",
              "      <td>1.4</td>\n",
              "      <td>0.2</td>\n",
              "      <td>Iris-setosa</td>\n",
              "    </tr>\n",
              "    <tr>\n",
              "      <th>2</th>\n",
              "      <td>4.7</td>\n",
              "      <td>3.2</td>\n",
              "      <td>1.3</td>\n",
              "      <td>0.2</td>\n",
              "      <td>Iris-setosa</td>\n",
              "    </tr>\n",
              "    <tr>\n",
              "      <th>3</th>\n",
              "      <td>4.6</td>\n",
              "      <td>3.1</td>\n",
              "      <td>1.5</td>\n",
              "      <td>0.2</td>\n",
              "      <td>Iris-setosa</td>\n",
              "    </tr>\n",
              "    <tr>\n",
              "      <th>4</th>\n",
              "      <td>5.0</td>\n",
              "      <td>3.6</td>\n",
              "      <td>1.4</td>\n",
              "      <td>0.2</td>\n",
              "      <td>Iris-setosa</td>\n",
              "    </tr>\n",
              "  </tbody>\n",
              "</table>\n",
              "</div>"
            ],
            "text/plain": [
              "   sepal_length  sepal_width  petal_length  petal_width      species\n",
              "0           5.1          3.5           1.4          0.2  Iris-setosa\n",
              "1           4.9          3.0           1.4          0.2  Iris-setosa\n",
              "2           4.7          3.2           1.3          0.2  Iris-setosa\n",
              "3           4.6          3.1           1.5          0.2  Iris-setosa\n",
              "4           5.0          3.6           1.4          0.2  Iris-setosa"
            ]
          },
          "metadata": {
            "tags": []
          },
          "execution_count": 4
        }
      ]
    },
    {
      "cell_type": "code",
      "metadata": {
        "id": "J5gbNFDrF8gJ",
        "colab_type": "code",
        "colab": {}
      },
      "source": [
        "datos=datosIris.values[:,:4]\n",
        "etiquetas=datosIris.values[:,4]"
      ],
      "execution_count": 0,
      "outputs": []
    },
    {
      "cell_type": "code",
      "metadata": {
        "id": "9SbGLPs4GDvh",
        "colab_type": "code",
        "colab": {}
      },
      "source": [
        "X_train,X_test,y_train,y_test=train_test_split(datos,etiquetas,train_size=0.8,random_state=23)"
      ],
      "execution_count": 0,
      "outputs": []
    },
    {
      "cell_type": "code",
      "metadata": {
        "id": "0msABh4jGGJY",
        "colab_type": "code",
        "colab": {}
      },
      "source": [
        "def one_hot(arr):\n",
        "    uniques, ids = np.unique(arr, return_inverse=True)\n",
        "    return np_utils.to_categorical(ids, len(uniques))\n",
        "y_train_ohe=one_hot(y_train)\n",
        "y_test_ohe=one_hot(y_test)"
      ],
      "execution_count": 0,
      "outputs": []
    },
    {
      "cell_type": "code",
      "metadata": {
        "id": "nAJEokB0Gnti",
        "colab_type": "code",
        "colab": {}
      },
      "source": [
        "# los datos de entrada dan un error, al no poder convertir Float en tensores.\n",
        "# soluciòn aquì : https://blog.csdn.net/weixin_44473755/article/details/102939703\n",
        "X_train_1 = K.cast_to_floatx (X_train)\n",
        "X_test_1 = K.cast_to_floatx (X_test)"
      ],
      "execution_count": 0,
      "outputs": []
    },
    {
      "cell_type": "code",
      "metadata": {
        "id": "plNT-VH7MC8b",
        "colab_type": "code",
        "outputId": "e95d7b69-4ea6-4e69-fb76-bf3ad478b6b2",
        "colab": {
          "base_uri": "https://localhost:8080/",
          "height": 34
        }
      },
      "source": [
        "print (X_train_1[20] )"
      ],
      "execution_count": 11,
      "outputs": [
        {
          "output_type": "stream",
          "text": [
            "[7.4 2.8 6.1 1.9]\n"
          ],
          "name": "stdout"
        }
      ]
    },
    {
      "cell_type": "code",
      "metadata": {
        "id": "LdEaauWUGwGX",
        "colab_type": "code",
        "colab": {}
      },
      "source": [
        "# El modelo\n",
        "model= tf.keras.Sequential()\n",
        "\n",
        "model.add(layers.Dense(16, activation='relu', input_dim=4))\n",
        "model.add(layers.Dense(16, activation='relu'))\n",
        "model.add(layers.Dense(3, activation='sigmoid'))\n",
        "\n",
        "# Configulación del entrenamiento\n",
        "model.compile(loss='categorical_crossentropy', optimizer='adam', metrics=['accuracy'])"
      ],
      "execution_count": 0,
      "outputs": []
    },
    {
      "cell_type": "code",
      "metadata": {
        "id": "kqIspP_lHdvp",
        "colab_type": "code",
        "outputId": "dc3eebbd-5d8b-4cd1-9a2f-9a7cd46e6e4c",
        "colab": {
          "base_uri": "https://localhost:8080/",
          "height": 255
        }
      },
      "source": [
        "model.summary()"
      ],
      "execution_count": 13,
      "outputs": [
        {
          "output_type": "stream",
          "text": [
            "Model: \"sequential\"\n",
            "_________________________________________________________________\n",
            "Layer (type)                 Output Shape              Param #   \n",
            "=================================================================\n",
            "dense (Dense)                (None, 16)                80        \n",
            "_________________________________________________________________\n",
            "dense_1 (Dense)              (None, 16)                272       \n",
            "_________________________________________________________________\n",
            "dense_2 (Dense)              (None, 3)                 51        \n",
            "=================================================================\n",
            "Total params: 403\n",
            "Trainable params: 403\n",
            "Non-trainable params: 0\n",
            "_________________________________________________________________\n"
          ],
          "name": "stdout"
        }
      ]
    },
    {
      "cell_type": "code",
      "metadata": {
        "id": "vqXHZjxLGyvj",
        "colab_type": "code",
        "outputId": "fccf8c04-b7d9-4d59-c15e-09ab6cd82993",
        "colab": {
          "base_uri": "https://localhost:8080/",
          "height": 1000
        }
      },
      "source": [
        "model.fit(X_train_1,y_train_ohe, epochs=100,batch_size=1,verbose=1)"
      ],
      "execution_count": 14,
      "outputs": [
        {
          "output_type": "stream",
          "text": [
            "Train on 120 samples\n",
            "Epoch 1/100\n",
            "120/120 [==============================] - 0s 4ms/sample - loss: 0.8802 - accuracy: 0.5083\n",
            "Epoch 2/100\n",
            "120/120 [==============================] - 0s 2ms/sample - loss: 0.6837 - accuracy: 0.6833\n",
            "Epoch 3/100\n",
            "120/120 [==============================] - 0s 1ms/sample - loss: 0.5258 - accuracy: 0.8250\n",
            "Epoch 4/100\n",
            "120/120 [==============================] - 0s 2ms/sample - loss: 0.4314 - accuracy: 0.6833\n",
            "Epoch 5/100\n",
            "120/120 [==============================] - 0s 1ms/sample - loss: 0.3949 - accuracy: 0.7833\n",
            "Epoch 6/100\n",
            "120/120 [==============================] - 0s 1ms/sample - loss: 0.3074 - accuracy: 0.9500\n",
            "Epoch 7/100\n",
            "120/120 [==============================] - 0s 1ms/sample - loss: 0.2337 - accuracy: 0.9250\n",
            "Epoch 8/100\n",
            "120/120 [==============================] - 0s 1ms/sample - loss: 0.2083 - accuracy: 0.9417\n",
            "Epoch 9/100\n",
            "120/120 [==============================] - 0s 2ms/sample - loss: 0.1979 - accuracy: 0.9333\n",
            "Epoch 10/100\n",
            "120/120 [==============================] - 0s 1ms/sample - loss: 0.1756 - accuracy: 0.9583\n",
            "Epoch 11/100\n",
            "120/120 [==============================] - 0s 1ms/sample - loss: 0.1628 - accuracy: 0.9667\n",
            "Epoch 12/100\n",
            "120/120 [==============================] - 0s 2ms/sample - loss: 0.1422 - accuracy: 0.9667\n",
            "Epoch 13/100\n",
            "120/120 [==============================] - 0s 1ms/sample - loss: 0.1375 - accuracy: 0.9750\n",
            "Epoch 14/100\n",
            "120/120 [==============================] - 0s 1ms/sample - loss: 0.1234 - accuracy: 0.9583\n",
            "Epoch 15/100\n",
            "120/120 [==============================] - 0s 1ms/sample - loss: 0.1424 - accuracy: 0.9500\n",
            "Epoch 16/100\n",
            "120/120 [==============================] - 0s 2ms/sample - loss: 0.1161 - accuracy: 0.9750\n",
            "Epoch 17/100\n",
            "120/120 [==============================] - 0s 2ms/sample - loss: 0.1242 - accuracy: 0.9667\n",
            "Epoch 18/100\n",
            "120/120 [==============================] - 0s 1ms/sample - loss: 0.1088 - accuracy: 0.9750\n",
            "Epoch 19/100\n",
            "120/120 [==============================] - 0s 1ms/sample - loss: 0.1162 - accuracy: 0.9583\n",
            "Epoch 20/100\n",
            "120/120 [==============================] - 0s 1ms/sample - loss: 0.1134 - accuracy: 0.9583\n",
            "Epoch 21/100\n",
            "120/120 [==============================] - 0s 2ms/sample - loss: 0.1130 - accuracy: 0.9500\n",
            "Epoch 22/100\n",
            "120/120 [==============================] - 0s 2ms/sample - loss: 0.0919 - accuracy: 0.9667\n",
            "Epoch 23/100\n",
            "120/120 [==============================] - 0s 1ms/sample - loss: 0.1033 - accuracy: 0.9583\n",
            "Epoch 24/100\n",
            "120/120 [==============================] - 0s 2ms/sample - loss: 0.1024 - accuracy: 0.9583\n",
            "Epoch 25/100\n",
            "120/120 [==============================] - 0s 1ms/sample - loss: 0.1023 - accuracy: 0.9583\n",
            "Epoch 26/100\n",
            "120/120 [==============================] - 0s 1ms/sample - loss: 0.0943 - accuracy: 0.9667\n",
            "Epoch 27/100\n",
            "120/120 [==============================] - 0s 1ms/sample - loss: 0.1121 - accuracy: 0.9417\n",
            "Epoch 28/100\n",
            "120/120 [==============================] - 0s 1ms/sample - loss: 0.1033 - accuracy: 0.9500\n",
            "Epoch 29/100\n",
            "120/120 [==============================] - 0s 1ms/sample - loss: 0.0969 - accuracy: 0.9667\n",
            "Epoch 30/100\n",
            "120/120 [==============================] - 0s 1ms/sample - loss: 0.0789 - accuracy: 0.9917\n",
            "Epoch 31/100\n",
            "120/120 [==============================] - 0s 1ms/sample - loss: 0.1057 - accuracy: 0.9583\n",
            "Epoch 32/100\n",
            "120/120 [==============================] - 0s 1ms/sample - loss: 0.0951 - accuracy: 0.9500\n",
            "Epoch 33/100\n",
            "120/120 [==============================] - 0s 1ms/sample - loss: 0.0965 - accuracy: 0.9750\n",
            "Epoch 34/100\n",
            "120/120 [==============================] - 0s 2ms/sample - loss: 0.0795 - accuracy: 0.9667\n",
            "Epoch 35/100\n",
            "120/120 [==============================] - 0s 2ms/sample - loss: 0.0769 - accuracy: 0.9583\n",
            "Epoch 36/100\n",
            "120/120 [==============================] - 0s 1ms/sample - loss: 0.0830 - accuracy: 0.9833\n",
            "Epoch 37/100\n",
            "120/120 [==============================] - 0s 1ms/sample - loss: 0.1050 - accuracy: 0.9500\n",
            "Epoch 38/100\n",
            "120/120 [==============================] - 0s 1ms/sample - loss: 0.0791 - accuracy: 0.9750\n",
            "Epoch 39/100\n",
            "120/120 [==============================] - 0s 2ms/sample - loss: 0.0841 - accuracy: 0.9583\n",
            "Epoch 40/100\n",
            "120/120 [==============================] - 0s 1ms/sample - loss: 0.0851 - accuracy: 0.9583\n",
            "Epoch 41/100\n",
            "120/120 [==============================] - 0s 1ms/sample - loss: 0.0596 - accuracy: 0.9917\n",
            "Epoch 42/100\n",
            "120/120 [==============================] - 0s 1ms/sample - loss: 0.0770 - accuracy: 0.9750\n",
            "Epoch 43/100\n",
            "120/120 [==============================] - 0s 2ms/sample - loss: 0.0746 - accuracy: 0.9667\n",
            "Epoch 44/100\n",
            "120/120 [==============================] - 0s 1ms/sample - loss: 0.0755 - accuracy: 0.9750\n",
            "Epoch 45/100\n",
            "120/120 [==============================] - 0s 2ms/sample - loss: 0.1125 - accuracy: 0.9417\n",
            "Epoch 46/100\n",
            "120/120 [==============================] - 0s 1ms/sample - loss: 0.0716 - accuracy: 0.9667\n",
            "Epoch 47/100\n",
            "120/120 [==============================] - 0s 2ms/sample - loss: 0.0883 - accuracy: 0.9500\n",
            "Epoch 48/100\n",
            "120/120 [==============================] - 0s 1ms/sample - loss: 0.0756 - accuracy: 0.9583\n",
            "Epoch 49/100\n",
            "120/120 [==============================] - 0s 1ms/sample - loss: 0.0828 - accuracy: 0.9583\n",
            "Epoch 50/100\n",
            "120/120 [==============================] - 0s 2ms/sample - loss: 0.0979 - accuracy: 0.9583\n",
            "Epoch 51/100\n",
            "120/120 [==============================] - 0s 2ms/sample - loss: 0.0763 - accuracy: 0.9833\n",
            "Epoch 52/100\n",
            "120/120 [==============================] - 0s 2ms/sample - loss: 0.0756 - accuracy: 0.9750\n",
            "Epoch 53/100\n",
            "120/120 [==============================] - 0s 1ms/sample - loss: 0.1224 - accuracy: 0.9333\n",
            "Epoch 54/100\n",
            "120/120 [==============================] - 0s 2ms/sample - loss: 0.0860 - accuracy: 0.9750\n",
            "Epoch 55/100\n",
            "120/120 [==============================] - 0s 2ms/sample - loss: 0.0739 - accuracy: 0.9667\n",
            "Epoch 56/100\n",
            "120/120 [==============================] - 0s 1ms/sample - loss: 0.0711 - accuracy: 0.9750\n",
            "Epoch 57/100\n",
            "120/120 [==============================] - 0s 1ms/sample - loss: 0.0766 - accuracy: 0.9750\n",
            "Epoch 58/100\n",
            "120/120 [==============================] - 0s 1ms/sample - loss: 0.0722 - accuracy: 0.9667\n",
            "Epoch 59/100\n",
            "120/120 [==============================] - 0s 1ms/sample - loss: 0.0910 - accuracy: 0.9583\n",
            "Epoch 60/100\n",
            "120/120 [==============================] - 0s 1ms/sample - loss: 0.0911 - accuracy: 0.9583\n",
            "Epoch 61/100\n",
            "120/120 [==============================] - 0s 1ms/sample - loss: 0.0716 - accuracy: 0.9667\n",
            "Epoch 62/100\n",
            "120/120 [==============================] - 0s 1ms/sample - loss: 0.0860 - accuracy: 0.9583\n",
            "Epoch 63/100\n",
            "120/120 [==============================] - 0s 2ms/sample - loss: 0.0951 - accuracy: 0.9583\n",
            "Epoch 64/100\n",
            "120/120 [==============================] - 0s 1ms/sample - loss: 0.0690 - accuracy: 0.9833\n",
            "Epoch 65/100\n",
            "120/120 [==============================] - 0s 1ms/sample - loss: 0.0690 - accuracy: 0.9667\n",
            "Epoch 66/100\n",
            "120/120 [==============================] - 0s 1ms/sample - loss: 0.0788 - accuracy: 0.9667\n",
            "Epoch 67/100\n",
            "120/120 [==============================] - 0s 1ms/sample - loss: 0.0974 - accuracy: 0.9583\n",
            "Epoch 68/100\n",
            "120/120 [==============================] - 0s 2ms/sample - loss: 0.0879 - accuracy: 0.9583\n",
            "Epoch 69/100\n",
            "120/120 [==============================] - 0s 2ms/sample - loss: 0.0688 - accuracy: 0.9750\n",
            "Epoch 70/100\n",
            "120/120 [==============================] - 0s 2ms/sample - loss: 0.0877 - accuracy: 0.9667\n",
            "Epoch 71/100\n",
            "120/120 [==============================] - 0s 2ms/sample - loss: 0.0686 - accuracy: 0.9750\n",
            "Epoch 72/100\n",
            "120/120 [==============================] - 0s 1ms/sample - loss: 0.0720 - accuracy: 0.9667\n",
            "Epoch 73/100\n",
            "120/120 [==============================] - 0s 2ms/sample - loss: 0.0730 - accuracy: 0.9667\n",
            "Epoch 74/100\n",
            "120/120 [==============================] - 0s 1ms/sample - loss: 0.0995 - accuracy: 0.9667\n",
            "Epoch 75/100\n",
            "120/120 [==============================] - 0s 1ms/sample - loss: 0.0802 - accuracy: 0.9667\n",
            "Epoch 76/100\n",
            "120/120 [==============================] - 0s 1ms/sample - loss: 0.0956 - accuracy: 0.9667\n",
            "Epoch 77/100\n",
            "120/120 [==============================] - 0s 1ms/sample - loss: 0.0665 - accuracy: 0.9750\n",
            "Epoch 78/100\n",
            "120/120 [==============================] - 0s 1ms/sample - loss: 0.0831 - accuracy: 0.9667\n",
            "Epoch 79/100\n",
            "120/120 [==============================] - 0s 1ms/sample - loss: 0.0593 - accuracy: 0.9750\n",
            "Epoch 80/100\n",
            "120/120 [==============================] - 0s 1ms/sample - loss: 0.0726 - accuracy: 0.9583\n",
            "Epoch 81/100\n",
            "120/120 [==============================] - 0s 1ms/sample - loss: 0.0729 - accuracy: 0.9667\n",
            "Epoch 82/100\n",
            "120/120 [==============================] - 0s 1ms/sample - loss: 0.0620 - accuracy: 0.9750\n",
            "Epoch 83/100\n",
            "120/120 [==============================] - 0s 2ms/sample - loss: 0.0971 - accuracy: 0.9417\n",
            "Epoch 84/100\n",
            "120/120 [==============================] - 0s 1ms/sample - loss: 0.0708 - accuracy: 0.9750\n",
            "Epoch 85/100\n",
            "120/120 [==============================] - 0s 1ms/sample - loss: 0.0770 - accuracy: 0.9667\n",
            "Epoch 86/100\n",
            "120/120 [==============================] - 0s 1ms/sample - loss: 0.0625 - accuracy: 0.9750\n",
            "Epoch 87/100\n",
            "120/120 [==============================] - 0s 1ms/sample - loss: 0.0705 - accuracy: 0.9750\n",
            "Epoch 88/100\n",
            "120/120 [==============================] - 0s 1ms/sample - loss: 0.0694 - accuracy: 0.9750\n",
            "Epoch 89/100\n",
            "120/120 [==============================] - 0s 1ms/sample - loss: 0.0609 - accuracy: 0.9750\n",
            "Epoch 90/100\n",
            "120/120 [==============================] - 0s 2ms/sample - loss: 0.0803 - accuracy: 0.9583\n",
            "Epoch 91/100\n",
            "120/120 [==============================] - 0s 1ms/sample - loss: 0.0652 - accuracy: 0.9750\n",
            "Epoch 92/100\n",
            "120/120 [==============================] - 0s 1ms/sample - loss: 0.0818 - accuracy: 0.9667\n",
            "Epoch 93/100\n",
            "120/120 [==============================] - 0s 1ms/sample - loss: 0.0735 - accuracy: 0.9583\n",
            "Epoch 94/100\n",
            "120/120 [==============================] - 0s 1ms/sample - loss: 0.0727 - accuracy: 0.9750\n",
            "Epoch 95/100\n",
            "120/120 [==============================] - 0s 1ms/sample - loss: 0.0885 - accuracy: 0.9583\n",
            "Epoch 96/100\n",
            "120/120 [==============================] - 0s 2ms/sample - loss: 0.0774 - accuracy: 0.9667\n",
            "Epoch 97/100\n",
            "120/120 [==============================] - 0s 1ms/sample - loss: 0.0639 - accuracy: 0.9750\n",
            "Epoch 98/100\n",
            "120/120 [==============================] - 0s 2ms/sample - loss: 0.0553 - accuracy: 0.9750\n",
            "Epoch 99/100\n",
            "120/120 [==============================] - 0s 1ms/sample - loss: 0.0702 - accuracy: 0.9833\n",
            "Epoch 100/100\n",
            "120/120 [==============================] - 0s 1ms/sample - loss: 0.0695 - accuracy: 0.9667\n"
          ],
          "name": "stdout"
        },
        {
          "output_type": "execute_result",
          "data": {
            "text/plain": [
              "<tensorflow.python.keras.callbacks.History at 0x7f12011a0908>"
            ]
          },
          "metadata": {
            "tags": []
          },
          "execution_count": 14
        }
      ]
    },
    {
      "cell_type": "code",
      "metadata": {
        "id": "qaTFYGQnMuyQ",
        "colab_type": "code",
        "outputId": "cda73444-040e-4601-c663-97bf9ac9110c",
        "colab": {
          "base_uri": "https://localhost:8080/",
          "height": 34
        }
      },
      "source": [
        "loss, accuracy = model.evaluate(X_test_1, y_test_ohe, verbose=0)\n",
        "print(\"Test accuracy : \" + str(accuracy))"
      ],
      "execution_count": 15,
      "outputs": [
        {
          "output_type": "stream",
          "text": [
            "Test accuracy : 0.96666664\n"
          ],
          "name": "stdout"
        }
      ]
    },
    {
      "cell_type": "code",
      "metadata": {
        "id": "0Snf2zT1NGWl",
        "colab_type": "code",
        "outputId": "3850cd47-3339-458c-9d22-38cf3154333f",
        "colab": {
          "base_uri": "https://localhost:8080/",
          "height": 34
        }
      },
      "source": [
        "# Stay here\n",
        "# Convert the model to the TensorFlow Lite format without quantization\n",
        "converter = tf.lite.TFLiteConverter.from_keras_model(model)\n",
        "converter.optimizations = [tf.lite.Optimize.OPTIMIZE_FOR_SIZE]\n",
        "tflite_model = converter.convert()\n",
        "\n",
        "# Save the model to disk\n",
        "open(\"exercice_model.tflite\", \"wb\").write(tflite_model)"
      ],
      "execution_count": 16,
      "outputs": [
        {
          "output_type": "execute_result",
          "data": {
            "text/plain": [
              "3152"
            ]
          },
          "metadata": {
            "tags": []
          },
          "execution_count": 16
        }
      ]
    },
    {
      "cell_type": "code",
      "metadata": {
        "id": "NTc00qi_NWii",
        "colab_type": "code",
        "outputId": "e3f5d72d-3050-4f7d-c155-d7ebdc583950",
        "colab": {
          "base_uri": "https://localhost:8080/",
          "height": 51
        }
      },
      "source": [
        "X_test = X_test.astype('float32')\n",
        "\n",
        "# Instantiate an interpreter for each model\n",
        "exercice_model = tf.lite.Interpreter('exercice_model.tflite')\n",
        "\n",
        "# Allocate memory for each model\n",
        "exercice_model.allocate_tensors()\n",
        "\n",
        "# Get the input and output tensors so we can feed in values and get the results\n",
        "input_details = exercice_model.get_input_details()\n",
        "output_details = exercice_model.get_output_details()\n",
        "\n",
        "test = 15\n",
        "\n",
        "input_data = X_test_1[test].reshape((1,4))\n",
        "exercice_model.set_tensor(input_details[0]['index'],input_data )\n",
        "\n",
        "exercice_model.invoke()\n",
        "  \n",
        "output_data = exercice_model.get_tensor(output_details[0]['index'])\n",
        "    \n",
        "  \n",
        "print(output_data)  \n",
        "print(y_test[test])"
      ],
      "execution_count": 18,
      "outputs": [
        {
          "output_type": "stream",
          "text": [
            "[[1.7133393e-08 1.9757006e-02 7.4578724e-03]]\n",
            "Iris-virginica\n"
          ],
          "name": "stdout"
        }
      ]
    },
    {
      "cell_type": "code",
      "metadata": {
        "id": "0dpzy3yaNvui",
        "colab_type": "code",
        "outputId": "52f7ca8c-edd5-4fe4-8017-8e57712f4d44",
        "colab": {
          "base_uri": "https://localhost:8080/",
          "height": 34
        }
      },
      "source": [
        "import os\n",
        "basic_model_size = os.path.getsize(\"exercice_model.tflite\")\n",
        "print(\"Basic model is %d bytes\" % basic_model_size)"
      ],
      "execution_count": 19,
      "outputs": [
        {
          "output_type": "stream",
          "text": [
            "Basic model is 3152 bytes\n"
          ],
          "name": "stdout"
        }
      ]
    },
    {
      "cell_type": "code",
      "metadata": {
        "id": "xHGQ81tOdtHj",
        "colab_type": "code",
        "colab": {
          "base_uri": "https://localhost:8080/",
          "height": 816
        },
        "outputId": "724ebf40-b402-48f3-d6a8-c99e28819088"
      },
      "source": [
        "# Install xxd if it is not available\n",
        "!sudo apt-get update\n",
        "!sudo apt-get install xxd\n"
      ],
      "execution_count": 21,
      "outputs": [
        {
          "output_type": "stream",
          "text": [
            "\r0% [Working]\r            \rIgn:1 https://developer.download.nvidia.com/compute/cuda/repos/ubuntu1804/x86_64  InRelease\n",
            "\r0% [Waiting for headers] [Connecting to security.ubuntu.com (91.189.88.152)] [C\r                                                                               \rHit:2 http://archive.ubuntu.com/ubuntu bionic InRelease\n",
            "\r0% [Connecting to security.ubuntu.com (91.189.88.152)] [Connecting to cloud.r-p\r0% [2 InRelease gpgv 242 kB] [Waiting for headers] [Waiting for headers] [Conne\r                                                                               \rHit:3 http://ppa.launchpad.net/graphics-drivers/ppa/ubuntu bionic InRelease\n",
            "Ign:4 https://developer.download.nvidia.com/compute/machine-learning/repos/ubuntu1804/x86_64  InRelease\n",
            "Hit:5 https://developer.download.nvidia.com/compute/cuda/repos/ubuntu1804/x86_64  Release\n",
            "Get:6 https://developer.download.nvidia.com/compute/machine-learning/repos/ubuntu1804/x86_64  Release [564 B]\n",
            "Get:7 https://cloud.r-project.org/bin/linux/ubuntu bionic-cran35/ InRelease [3,622 B]\n",
            "Get:8 https://developer.download.nvidia.com/compute/machine-learning/repos/ubuntu1804/x86_64  Release.gpg [833 B]\n",
            "Get:9 http://archive.ubuntu.com/ubuntu bionic-updates InRelease [88.7 kB]\n",
            "Get:10 http://security.ubuntu.com/ubuntu bionic-security InRelease [88.7 kB]\n",
            "Get:11 http://ppa.launchpad.net/marutter/c2d4u3.5/ubuntu bionic InRelease [15.4 kB]\n",
            "Get:13 http://archive.ubuntu.com/ubuntu bionic-backports InRelease [74.6 kB]\n",
            "Get:14 https://developer.download.nvidia.com/compute/machine-learning/repos/ubuntu1804/x86_64  Packages [31.7 kB]\n",
            "Get:15 http://archive.ubuntu.com/ubuntu bionic-updates/restricted amd64 Packages [48.7 kB]\n",
            "Get:16 http://ppa.launchpad.net/marutter/c2d4u3.5/ubuntu bionic/main Sources [1,789 kB]\n",
            "Get:17 http://security.ubuntu.com/ubuntu bionic-security/restricted amd64 Packages [35.2 kB]\n",
            "Get:18 http://archive.ubuntu.com/ubuntu bionic-updates/universe amd64 Packages [1,362 kB]\n",
            "Get:19 http://security.ubuntu.com/ubuntu bionic-security/main amd64 Packages [861 kB]\n",
            "Get:20 http://archive.ubuntu.com/ubuntu bionic-updates/main amd64 Packages [1,155 kB]\n",
            "Get:21 http://security.ubuntu.com/ubuntu bionic-security/universe amd64 Packages [832 kB]\n",
            "Get:22 http://archive.ubuntu.com/ubuntu bionic-backports/universe amd64 Packages [4,247 B]\n",
            "Get:23 http://ppa.launchpad.net/marutter/c2d4u3.5/ubuntu bionic/main amd64 Packages [863 kB]\n",
            "Fetched 7,254 kB in 3s (2,681 kB/s)\n",
            "Reading package lists... Done\n",
            "Reading package lists... Done\n",
            "Building dependency tree       \n",
            "Reading state information... Done\n",
            "The following NEW packages will be installed:\n",
            "  xxd\n",
            "0 upgraded, 1 newly installed, 0 to remove and 37 not upgraded.\n",
            "Need to get 49.4 kB of archives.\n",
            "After this operation, 200 kB of additional disk space will be used.\n",
            "Get:1 http://archive.ubuntu.com/ubuntu bionic-updates/main amd64 xxd amd64 2:8.0.1453-1ubuntu1.3 [49.4 kB]\n",
            "Fetched 49.4 kB in 0s (122 kB/s)\n",
            "debconf: unable to initialize frontend: Dialog\n",
            "debconf: (No usable dialog-like program is installed, so the dialog based frontend cannot be used. at /usr/share/perl5/Debconf/FrontEnd/Dialog.pm line 76, <> line 1.)\n",
            "debconf: falling back to frontend: Readline\n",
            "debconf: unable to initialize frontend: Readline\n",
            "debconf: (This frontend requires a controlling tty.)\n",
            "debconf: falling back to frontend: Teletype\n",
            "dpkg-preconfigure: unable to re-open stdin: \n",
            "Selecting previously unselected package xxd.\n",
            "(Reading database ... 133872 files and directories currently installed.)\n",
            "Preparing to unpack .../xxd_2%3a8.0.1453-1ubuntu1.3_amd64.deb ...\n",
            "Unpacking xxd (2:8.0.1453-1ubuntu1.3) ...\n",
            "Setting up xxd (2:8.0.1453-1ubuntu1.3) ...\n",
            "Processing triggers for man-db (2.8.3-2ubuntu0.1) ...\n"
          ],
          "name": "stdout"
        }
      ]
    },
    {
      "cell_type": "code",
      "metadata": {
        "id": "WFhJU6-rOJ9i",
        "colab_type": "code",
        "outputId": "842f4ceb-651f-4519-e76f-36f56f354b55",
        "colab": {
          "base_uri": "https://localhost:8080/",
          "height": 1000
        }
      },
      "source": [
        "# Save the file as a C source file\n",
        "!xxd -i exercice_model.tflite > exercice_model.cc\n",
        "# Print the source file\n",
        "!cat exercice_model.cc"
      ],
      "execution_count": 22,
      "outputs": [
        {
          "output_type": "stream",
          "text": [
            "unsigned char exercice_model_tflite[] = {\n",
            "  0x1c, 0x00, 0x00, 0x00, 0x54, 0x46, 0x4c, 0x33, 0x00, 0x00, 0x12, 0x00,\n",
            "  0x1c, 0x00, 0x04, 0x00, 0x08, 0x00, 0x0c, 0x00, 0x10, 0x00, 0x14, 0x00,\n",
            "  0x00, 0x00, 0x18, 0x00, 0x12, 0x00, 0x00, 0x00, 0x03, 0x00, 0x00, 0x00,\n",
            "  0xfc, 0x0b, 0x00, 0x00, 0x50, 0x07, 0x00, 0x00, 0x38, 0x07, 0x00, 0x00,\n",
            "  0x34, 0x00, 0x00, 0x00, 0x04, 0x00, 0x00, 0x00, 0x01, 0x00, 0x00, 0x00,\n",
            "  0x04, 0x00, 0x00, 0x00, 0xa8, 0xf4, 0xff, 0xff, 0x08, 0x00, 0x00, 0x00,\n",
            "  0x0c, 0x00, 0x00, 0x00, 0x13, 0x00, 0x00, 0x00, 0x6d, 0x69, 0x6e, 0x5f,\n",
            "  0x72, 0x75, 0x6e, 0x74, 0x69, 0x6d, 0x65, 0x5f, 0x76, 0x65, 0x72, 0x73,\n",
            "  0x69, 0x6f, 0x6e, 0x00, 0x0d, 0x00, 0x00, 0x00, 0xf8, 0x06, 0x00, 0x00,\n",
            "  0x28, 0x06, 0x00, 0x00, 0x04, 0x06, 0x00, 0x00, 0xb4, 0x05, 0x00, 0x00,\n",
            "  0xa4, 0x01, 0x00, 0x00, 0x54, 0x01, 0x00, 0x00, 0x4c, 0x01, 0x00, 0x00,\n",
            "  0x44, 0x01, 0x00, 0x00, 0x3c, 0x01, 0x00, 0x00, 0x2c, 0x00, 0x00, 0x00,\n",
            "  0x24, 0x00, 0x00, 0x00, 0x1c, 0x00, 0x00, 0x00, 0x04, 0x00, 0x00, 0x00,\n",
            "  0x0e, 0xfa, 0xff, 0xff, 0x04, 0x00, 0x00, 0x00, 0x06, 0x00, 0x00, 0x00,\n",
            "  0x31, 0x2e, 0x31, 0x34, 0x2e, 0x30, 0x00, 0x00, 0xb4, 0xf4, 0xff, 0xff,\n",
            "  0xb8, 0xf4, 0xff, 0xff, 0x2a, 0xfa, 0xff, 0xff, 0x04, 0x00, 0x00, 0x00,\n",
            "  0x00, 0x01, 0x00, 0x00, 0xb8, 0xfd, 0xc9, 0xbe, 0x95, 0x1f, 0x0a, 0xbf,\n",
            "  0xf0, 0x78, 0xe1, 0x3e, 0x4e, 0x9c, 0x91, 0x3e, 0xb6, 0x54, 0x05, 0xbe,\n",
            "  0xc2, 0x95, 0x4f, 0xbd, 0x41, 0x98, 0xdc, 0x3d, 0xc4, 0xab, 0x65, 0x3e,\n",
            "  0xee, 0xc6, 0xd6, 0x3e, 0xd7, 0x37, 0x02, 0xbf, 0xf5, 0x8a, 0x3e, 0x3e,\n",
            "  0xd6, 0x48, 0x1b, 0xbf, 0x16, 0x5f, 0xc9, 0xbe, 0x00, 0x9e, 0xc0, 0x3c,\n",
            "  0x41, 0x85, 0xda, 0x3e, 0x49, 0x49, 0x50, 0x3f, 0xc8, 0xcb, 0xa3, 0x3e,\n",
            "  0xd0, 0xe2, 0x0a, 0x3f, 0x60, 0x8f, 0x81, 0xbe, 0xcc, 0xaf, 0x97, 0x3e,\n",
            "  0x31, 0xb3, 0xc4, 0x3e, 0x7e, 0x8b, 0x1d, 0x3f, 0xed, 0x05, 0xf1, 0xbe,\n",
            "  0xc8, 0x44, 0x68, 0xbe, 0xfa, 0x5c, 0x9b, 0xbe, 0x7c, 0x28, 0xcf, 0x3e,\n",
            "  0x91, 0xc2, 0x90, 0xbe, 0xc0, 0x9f, 0x60, 0xbc, 0x2c, 0x90, 0xa8, 0x3d,\n",
            "  0xa8, 0x08, 0xa0, 0xbe, 0xdc, 0xf3, 0x2f, 0xbd, 0x14, 0xa2, 0x3f, 0x3f,\n",
            "  0x5c, 0x39, 0x7b, 0x3e, 0x51, 0xbe, 0x1c, 0x3f, 0x93, 0xe2, 0x2f, 0xbf,\n",
            "  0x75, 0x36, 0x49, 0xbf, 0xd9, 0xec, 0xcd, 0xbc, 0x86, 0xdc, 0xbc, 0xbe,\n",
            "  0xb6, 0x7e, 0xea, 0x3e, 0xed, 0x80, 0x39, 0x3f, 0x80, 0xd9, 0xb9, 0xbe,\n",
            "  0xc7, 0x97, 0xe7, 0x3e, 0xf2, 0xd0, 0x79, 0xbd, 0x7c, 0xfd, 0xca, 0x3e,\n",
            "  0xb7, 0x22, 0xa7, 0x3c, 0x09, 0x6e, 0x16, 0xbf, 0x8d, 0xcf, 0x2a, 0x3f,\n",
            "  0x39, 0x78, 0x41, 0x3f, 0xbf, 0xc3, 0x82, 0xbe, 0x17, 0x95, 0xbf, 0x3e,\n",
            "  0x76, 0x3b, 0xba, 0x3e, 0xc4, 0x78, 0x18, 0xbe, 0x7b, 0x72, 0xbc, 0xbe,\n",
            "  0x52, 0x10, 0x06, 0x3f, 0x86, 0xcd, 0xa3, 0xbe, 0x58, 0xf3, 0xc9, 0x3e,\n",
            "  0x3e, 0xc2, 0x6a, 0xbe, 0x00, 0x8c, 0x87, 0xbd, 0x00, 0x72, 0xf5, 0x3a,\n",
            "  0xa0, 0x78, 0xc9, 0xbc, 0xf0, 0x35, 0xa9, 0x3e, 0xe5, 0xad, 0x02, 0xbf,\n",
            "  0x52, 0xe4, 0xe0, 0xbe, 0xec, 0x3c, 0x81, 0x3e, 0xc8, 0xf5, 0xff, 0xff,\n",
            "  0xcc, 0xf5, 0xff, 0xff, 0xd0, 0xf5, 0xff, 0xff, 0x42, 0xfb, 0xff, 0xff,\n",
            "  0x04, 0x00, 0x00, 0x00, 0x40, 0x00, 0x00, 0x00, 0x00, 0x00, 0x00, 0x00,\n",
            "  0x72, 0xad, 0x02, 0xbe, 0xef, 0x9c, 0x8f, 0x3e, 0x3c, 0x1d, 0x6e, 0xbe,\n",
            "  0xa0, 0xc4, 0x16, 0x3f, 0xe0, 0x92, 0x00, 0x3f, 0x00, 0x00, 0x00, 0x00,\n",
            "  0x88, 0x75, 0x9f, 0xbe, 0x95, 0xa7, 0xf0, 0x3d, 0xd4, 0x3f, 0x91, 0xbe,\n",
            "  0x99, 0x1c, 0xa7, 0xbc, 0xa8, 0x9a, 0x92, 0xbe, 0xdd, 0x34, 0x91, 0x3e,\n",
            "  0x00, 0x00, 0x00, 0x00, 0x00, 0x00, 0x00, 0x00, 0x00, 0x00, 0x00, 0x00,\n",
            "  0x8e, 0xfb, 0xff, 0xff, 0x04, 0x00, 0x00, 0x00, 0x00, 0x04, 0x00, 0x00,\n",
            "  0x80, 0x97, 0x0d, 0xbc, 0xe0, 0x23, 0xb1, 0x3e, 0x9f, 0xfa, 0x0c, 0x3c,\n",
            "  0xdd, 0xf5, 0x11, 0xbf, 0x3e, 0xdb, 0x11, 0x3f, 0x06, 0x51, 0x58, 0x3f,\n",
            "  0x8a, 0xb6, 0x10, 0x3e, 0x1c, 0x1b, 0x29, 0xbf, 0x9d, 0xc3, 0x01, 0x3c,\n",
            "  0xca, 0x08, 0x87, 0xbd, 0x90, 0x38, 0xda, 0x3e, 0x1e, 0xa5, 0xa5, 0xbe,\n",
            "  0xed, 0x06, 0x97, 0x3e, 0x25, 0xb5, 0xa7, 0x3e, 0x4e, 0xad, 0xd0, 0xbe,\n",
            "  0xd8, 0xc5, 0xb1, 0xbd, 0x6b, 0x53, 0x96, 0x3e, 0xd4, 0x19, 0x45, 0x3f,\n",
            "  0x0c, 0xf3, 0x1b, 0x3f, 0xf3, 0xe6, 0xeb, 0x3d, 0xdd, 0x06, 0x64, 0x3f,\n",
            "  0x36, 0x29, 0xd3, 0x3e, 0xca, 0xfc, 0x35, 0x3e, 0x84, 0xff, 0x25, 0x3f,\n",
            "  0x4b, 0xce, 0x0c, 0xbf, 0x9e, 0x41, 0xe6, 0x3e, 0xef, 0xf7, 0xd8, 0x3e,\n",
            "  0x56, 0x9e, 0x41, 0x3e, 0x21, 0x95, 0x1c, 0x3f, 0x68, 0x00, 0xbd, 0xbe,\n",
            "  0xd0, 0xce, 0x75, 0x3d, 0x1e, 0x14, 0x32, 0xbe, 0x12, 0xb4, 0x10, 0x3e,\n",
            "  0x96, 0xe0, 0x69, 0x3e, 0x7d, 0x41, 0xaf, 0xbe, 0x5f, 0x5c, 0x92, 0xbe,\n",
            "  0xa8, 0x00, 0x36, 0xbe, 0x10, 0x37, 0x59, 0xbd, 0xfc, 0x53, 0xbb, 0x3d,\n",
            "  0xb4, 0x5d, 0x91, 0xbd, 0x18, 0x3d, 0xe6, 0xbd, 0x18, 0x87, 0x05, 0xbd,\n",
            "  0xa3, 0xf2, 0xd0, 0x3e, 0x9c, 0x9d, 0x4e, 0xbe, 0x88, 0x99, 0x29, 0xbd,\n",
            "  0x24, 0x4d, 0xb0, 0x3d, 0xd8, 0xcc, 0x1e, 0xbd, 0x42, 0x83, 0x71, 0x3e,\n",
            "  0x94, 0x98, 0xc7, 0x3d, 0xf3, 0x7d, 0x1c, 0xbe, 0xd6, 0xa3, 0xc6, 0x3e,\n",
            "  0x00, 0x91, 0x2a, 0xbf, 0x2f, 0x9c, 0x09, 0x3f, 0xd3, 0x47, 0x12, 0x3f,\n",
            "  0x6f, 0xcc, 0xc9, 0x3e, 0x4e, 0x39, 0x51, 0xbb, 0xbd, 0xea, 0x0b, 0x3f,\n",
            "  0xa8, 0x40, 0x88, 0xbd, 0xb3, 0x40, 0x2e, 0xbd, 0x0e, 0xd8, 0xa7, 0xbe,\n",
            "  0x85, 0x96, 0x60, 0x3d, 0xa4, 0x9f, 0x37, 0xbe, 0xd3, 0x60, 0x9f, 0x3e,\n",
            "  0xd6, 0x33, 0x14, 0x3e, 0x8b, 0x4b, 0x8b, 0xbe, 0x89, 0xa3, 0x9c, 0x3e,\n",
            "  0x70, 0x92, 0x77, 0xbd, 0xef, 0xc1, 0xb5, 0xbe, 0x1c, 0xc6, 0x9a, 0x3d,\n",
            "  0xc0, 0x8d, 0x3b, 0xbc, 0xe4, 0xa1, 0x13, 0xbe, 0x5a, 0x3c, 0x9e, 0xbe,\n",
            "  0xc2, 0xe2, 0xa0, 0xbe, 0x06, 0x4f, 0xcf, 0xbe, 0xe4, 0x52, 0x78, 0xbe,\n",
            "  0x2e, 0x81, 0x64, 0x3e, 0x9c, 0x2a, 0xa2, 0xbd, 0x34, 0xd1, 0x8a, 0x3d,\n",
            "  0x3a, 0x9d, 0x1e, 0xbe, 0x40, 0x68, 0x3e, 0x3c, 0x48, 0x1e, 0x0c, 0xbe,\n",
            "  0xc9, 0xca, 0x8f, 0x3e, 0xc5, 0x22, 0x99, 0xbe, 0x0e, 0x26, 0x7a, 0x3e,\n",
            "  0x6d, 0x50, 0x96, 0xbd, 0xe6, 0x3a, 0x28, 0xbe, 0xbc, 0xf0, 0xe9, 0x3d,\n",
            "  0xbf, 0x2d, 0xb8, 0xbe, 0xdd, 0x96, 0x8b, 0x3e, 0xcf, 0x40, 0x91, 0xbe,\n",
            "  0x8c, 0x27, 0x81, 0xbe, 0x3e, 0x8c, 0x05, 0xbe, 0xb9, 0xec, 0x81, 0x3e,\n",
            "  0x1c, 0x91, 0xf2, 0xbd, 0x67, 0x33, 0xc4, 0xbe, 0x25, 0x1d, 0x93, 0x3e,\n",
            "  0x3a, 0x3e, 0xc9, 0xbe, 0x74, 0x7c, 0x21, 0xbe, 0xac, 0xc4, 0x18, 0x3c,\n",
            "  0x0d, 0xbe, 0xed, 0xbe, 0xc3, 0xa7, 0xc5, 0x3d, 0x44, 0xc4, 0x24, 0x3f,\n",
            "  0x3a, 0x58, 0x78, 0x3e, 0x46, 0x1f, 0xb9, 0xbd, 0xc0, 0x29, 0x04, 0xbf,\n",
            "  0xa9, 0x8f, 0x0e, 0xbf, 0xf5, 0xa9, 0x75, 0xbe, 0xc2, 0x00, 0x75, 0x3b,\n",
            "  0xa9, 0xea, 0xde, 0x3d, 0x24, 0x9d, 0x94, 0x3d, 0xd4, 0x64, 0xda, 0xbe,\n",
            "  0xe4, 0xe4, 0xc3, 0x3d, 0x4f, 0xae, 0x88, 0xbe, 0x36, 0x85, 0xf6, 0xbe,\n",
            "  0xe0, 0x75, 0xff, 0xbe, 0x23, 0xea, 0x42, 0xbf, 0x62, 0xa4, 0x97, 0x3e,\n",
            "  0x80, 0xe5, 0x22, 0x3f, 0xfc, 0xce, 0xbf, 0xbd, 0x07, 0x42, 0x15, 0xbf,\n",
            "  0x12, 0x47, 0xdf, 0x3f, 0xb3, 0xa0, 0x11, 0xbf, 0xad, 0xcb, 0x86, 0x3d,\n",
            "  0xee, 0xd1, 0x76, 0xbf, 0xa9, 0x71, 0x17, 0xbe, 0x6b, 0x39, 0xd0, 0x3e,\n",
            "  0xb0, 0xb3, 0xf7, 0x3c, 0xde, 0xcc, 0x19, 0x3e, 0xaa, 0x39, 0x8a, 0xbe,\n",
            "  0x5c, 0x51, 0xbc, 0x3d, 0x8c, 0x71, 0x27, 0x3e, 0x4a, 0x4a, 0x4a, 0xbe,\n",
            "  0x30, 0x65, 0x54, 0x3d, 0xdf, 0xe5, 0x0c, 0xbe, 0x80, 0x87, 0x34, 0xbc,\n",
            "  0xb4, 0xd0, 0xc8, 0xbe, 0xc3, 0x56, 0xe1, 0x3c, 0xfb, 0xda, 0x00, 0x3e,\n",
            "  0xf4, 0xde, 0xb4, 0xbe, 0xd3, 0x26, 0x80, 0xbe, 0x62, 0xb4, 0x4c, 0xbe,\n",
            "  0x5a, 0x16, 0x54, 0xbe, 0x72, 0xa6, 0x05, 0x3e, 0x00, 0xf5, 0x65, 0x3c,\n",
            "  0xb4, 0xb9, 0x8b, 0x3d, 0x3d, 0x80, 0x9d, 0xbe, 0x0c, 0x63, 0xd0, 0xbe,\n",
            "  0x31, 0xae, 0x57, 0x3f, 0x2a, 0xd1, 0xc2, 0xbd, 0x93, 0xbf, 0x67, 0x3c,\n",
            "  0x04, 0x54, 0x85, 0x3d, 0x20, 0x75, 0x4a, 0x3f, 0x7d, 0x60, 0xb5, 0x3d,\n",
            "  0x86, 0x57, 0xd4, 0x3e, 0xb6, 0x0c, 0xbe, 0xbe, 0x61, 0x54, 0x70, 0x3e,\n",
            "  0xae, 0xaa, 0x83, 0xbd, 0x27, 0xc3, 0xdc, 0x3e, 0xdc, 0x30, 0xa1, 0x3d,\n",
            "  0xaa, 0x20, 0xc7, 0xbe, 0x41, 0x2f, 0xa6, 0x3e, 0xd8, 0x5d, 0x51, 0x3e,\n",
            "  0x21, 0x76, 0x5c, 0xbe, 0x8e, 0x1f, 0x54, 0x3f, 0x64, 0xc7, 0x94, 0x3e,\n",
            "  0x78, 0x49, 0x1d, 0xbf, 0xe4, 0xa2, 0xc0, 0xbd, 0xc6, 0x36, 0x0d, 0x3f,\n",
            "  0x60, 0x6a, 0x94, 0x3d, 0x79, 0x12, 0x29, 0xbe, 0x5d, 0x4c, 0x54, 0x3e,\n",
            "  0x44, 0xb1, 0xe9, 0x3e, 0x16, 0x79, 0x8d, 0x3d, 0x09, 0xb8, 0x8d, 0x3e,\n",
            "  0xd0, 0x31, 0xb1, 0xbd, 0x60, 0xa8, 0x46, 0xbd, 0xb9, 0xe1, 0x92, 0x3e,\n",
            "  0x84, 0x46, 0xf3, 0xbd, 0xee, 0x53, 0xe1, 0x3e, 0x5f, 0x20, 0x4b, 0x3f,\n",
            "  0x35, 0x7d, 0x19, 0xbf, 0xd2, 0xa3, 0x09, 0x3d, 0xf0, 0xd9, 0x06, 0xbe,\n",
            "  0x28, 0x98, 0xaa, 0x3c, 0x27, 0xff, 0x82, 0x3e, 0x21, 0xd6, 0x01, 0x3f,\n",
            "  0xb5, 0xdc, 0x3f, 0x3c, 0x1f, 0x18, 0x7a, 0x3e, 0xef, 0xef, 0x57, 0x3e,\n",
            "  0x0c, 0x6b, 0x59, 0xbe, 0x74, 0xaf, 0xd5, 0x3d, 0x89, 0xb2, 0x47, 0xbe,\n",
            "  0x6d, 0x83, 0xb4, 0xbe, 0xd9, 0x63, 0x88, 0x3e, 0x54, 0x6e, 0x2f, 0x3e,\n",
            "  0xfd, 0xbd, 0x2e, 0x3f, 0x2f, 0xa7, 0x3b, 0xbe, 0xea, 0x3d, 0xaf, 0xbe,\n",
            "  0x7a, 0xf6, 0x89, 0xbe, 0xf3, 0xd3, 0x58, 0x3e, 0xf9, 0x37, 0x2f, 0x3e,\n",
            "  0xfc, 0xcb, 0xc5, 0x3c, 0x4f, 0x67, 0x95, 0x3e, 0xfc, 0x2c, 0x25, 0x3f,\n",
            "  0xac, 0xf5, 0xc9, 0x3e, 0xa1, 0xbf, 0x9f, 0x3e, 0x92, 0x79, 0x39, 0x3e,\n",
            "  0x83, 0x54, 0xbf, 0x3e, 0x00, 0x50, 0x36, 0xbe, 0xbc, 0x79, 0xbc, 0xbd,\n",
            "  0x85, 0x10, 0x2a, 0xbd, 0x32, 0xa5, 0x50, 0x3e, 0xe4, 0xbb, 0x76, 0xbe,\n",
            "  0x79, 0xf9, 0x12, 0xbe, 0x44, 0x0d, 0x8a, 0x3d, 0x03, 0xde, 0x5c, 0xbe,\n",
            "  0x98, 0xe7, 0xa6, 0x3e, 0x3a, 0x55, 0x6e, 0xbe, 0x28, 0x36, 0xad, 0xbe,\n",
            "  0x5d, 0x1d, 0x9e, 0xbe, 0x97, 0x2d, 0x32, 0xbe, 0x94, 0x3f, 0x97, 0xbe,\n",
            "  0x46, 0xf9, 0x6b, 0x3e, 0x5e, 0x8f, 0x4e, 0x3e, 0x59, 0x7f, 0xd5, 0xbe,\n",
            "  0x28, 0x9e, 0x3e, 0x3d, 0x5c, 0x5f, 0xc1, 0x3d, 0x2c, 0x1d, 0xb3, 0xbd,\n",
            "  0x77, 0xdb, 0xa5, 0xbe, 0x2a, 0xef, 0x0f, 0x3e, 0x40, 0xb3, 0x85, 0x3c,\n",
            "  0x2a, 0x81, 0x7c, 0x3e, 0xbc, 0xfe, 0x24, 0xbe, 0x15, 0x72, 0xd1, 0xbe,\n",
            "  0x34, 0x38, 0xb4, 0x3d, 0x54, 0x18, 0xba, 0xbd, 0xf4, 0x9e, 0x38, 0xbe,\n",
            "  0x0f, 0x34, 0xb6, 0x3e, 0xe3, 0xf4, 0xaf, 0x3e, 0x5b, 0xa3, 0xb0, 0x3e,\n",
            "  0x3b, 0xa2, 0x99, 0x3e, 0xb6, 0x8c, 0x32, 0x3c, 0x08, 0x80, 0x6b, 0x3e,\n",
            "  0x1d, 0x15, 0x07, 0x3f, 0xae, 0x0b, 0xfc, 0x3d, 0x5c, 0xcd, 0xa6, 0xbe,\n",
            "  0xc0, 0x59, 0x45, 0xbd, 0x00, 0x2b, 0xa8, 0x3d, 0xb3, 0x52, 0xa6, 0x3c,\n",
            "  0x3d, 0xf6, 0x19, 0x3f, 0xa5, 0x5d, 0x17, 0x3c, 0x6b, 0xbd, 0x1b, 0x3f,\n",
            "  0xf4, 0x3d, 0xaf, 0xbd, 0x29, 0x86, 0x95, 0xbe, 0x35, 0xdb, 0xa8, 0x3e,\n",
            "  0xcc, 0x2a, 0xc9, 0xbd, 0x9a, 0xff, 0xff, 0xff, 0x04, 0x00, 0x00, 0x00,\n",
            "  0x40, 0x00, 0x00, 0x00, 0xf8, 0x8d, 0xe4, 0x3e, 0x25, 0x7d, 0xd2, 0x3e,\n",
            "  0x00, 0x00, 0x00, 0x00, 0xa2, 0xc2, 0x07, 0x3f, 0x00, 0x00, 0x00, 0x00,\n",
            "  0xdc, 0x70, 0xa9, 0xbd, 0x83, 0x5d, 0xd6, 0x3e, 0xe0, 0xb6, 0x72, 0x3d,\n",
            "  0xf5, 0x91, 0x7f, 0xbc, 0x78, 0xab, 0x8c, 0xbe, 0x1d, 0x42, 0xa4, 0xbe,\n",
            "  0xeb, 0x44, 0xa2, 0xbe, 0xdc, 0xc2, 0xb8, 0xbe, 0x30, 0xaa, 0x44, 0xbd,\n",
            "  0x00, 0x00, 0x00, 0x00, 0xd0, 0xf1, 0x67, 0xbe, 0xe6, 0xff, 0xff, 0xff,\n",
            "  0x04, 0x00, 0x00, 0x00, 0x0c, 0x00, 0x00, 0x00, 0x42, 0x46, 0xb0, 0xbe,\n",
            "  0xcc, 0xa6, 0x46, 0x3e, 0x3e, 0x05, 0xff, 0xbe, 0x00, 0x00, 0x06, 0x00,\n",
            "  0x08, 0x00, 0x04, 0x00, 0x06, 0x00, 0x00, 0x00, 0x04, 0x00, 0x00, 0x00,\n",
            "  0xc0, 0x00, 0x00, 0x00, 0x61, 0xf6, 0x5c, 0xbe, 0xae, 0x24, 0xb1, 0xbf,\n",
            "  0x0d, 0xec, 0x05, 0x3f, 0x32, 0x58, 0x82, 0xbd, 0xc0, 0x90, 0xd6, 0xbc,\n",
            "  0xe4, 0x81, 0x6e, 0x3e, 0x9e, 0x71, 0xb0, 0x3e, 0x3a, 0xca, 0xa3, 0x3f,\n",
            "  0xc0, 0x54, 0x8e, 0xbd, 0x32, 0x8b, 0xcd, 0x3d, 0x32, 0x8a, 0x7f, 0xbf,\n",
            "  0x80, 0x4a, 0x08, 0xbf, 0x12, 0x21, 0x48, 0xbf, 0x5b, 0x3d, 0xc2, 0xbe,\n",
            "  0x78, 0xd5, 0xb9, 0x3d, 0x80, 0x07, 0xab, 0xbf, 0x5f, 0x0b, 0xa3, 0xbb,\n",
            "  0x69, 0xfd, 0xb6, 0xbe, 0x22, 0x6d, 0xf7, 0x3e, 0x72, 0x2b, 0x99, 0xbe,\n",
            "  0x42, 0xf7, 0x1d, 0xbe, 0x05, 0xa0, 0x4c, 0x3e, 0xc4, 0x88, 0x3b, 0x3f,\n",
            "  0xf0, 0x2e, 0xd3, 0xbf, 0xbb, 0x9a, 0x9f, 0x3d, 0x81, 0xa3, 0x79, 0xbf,\n",
            "  0xfd, 0x9c, 0x59, 0xbf, 0x4c, 0x3c, 0xde, 0xbc, 0xe4, 0x4a, 0x22, 0xbe,\n",
            "  0xaf, 0xd5, 0x8a, 0xbe, 0x5f, 0x4a, 0x99, 0xbe, 0x4b, 0xe9, 0x92, 0x3e,\n",
            "  0x05, 0x75, 0x5f, 0xbf, 0xa1, 0x02, 0xac, 0xbe, 0x46, 0xa2, 0xf4, 0x3e,\n",
            "  0xd9, 0x45, 0x8c, 0xbf, 0x08, 0xf7, 0xc7, 0x3d, 0x07, 0x43, 0x7c, 0x3e,\n",
            "  0x66, 0x1f, 0x77, 0xbf, 0x1d, 0x54, 0x4e, 0x3e, 0xa2, 0xa4, 0x55, 0x3d,\n",
            "  0x6d, 0x03, 0x30, 0x3f, 0x54, 0xac, 0x30, 0x3f, 0xdf, 0x62, 0xba, 0x3e,\n",
            "  0xfb, 0x62, 0xf6, 0x3e, 0x07, 0x40, 0xbb, 0x3e, 0x17, 0xa9, 0x07, 0x3f,\n",
            "  0xc5, 0x11, 0xff, 0x3e, 0x64, 0xfb, 0xff, 0xff, 0x0f, 0x00, 0x00, 0x00,\n",
            "  0x54, 0x4f, 0x43, 0x4f, 0x20, 0x43, 0x6f, 0x6e, 0x76, 0x65, 0x72, 0x74,\n",
            "  0x65, 0x64, 0x2e, 0x00, 0x01, 0x00, 0x00, 0x00, 0x10, 0x00, 0x00, 0x00,\n",
            "  0x0c, 0x00, 0x14, 0x00, 0x04, 0x00, 0x08, 0x00, 0x0c, 0x00, 0x10, 0x00,\n",
            "  0x0c, 0x00, 0x00, 0x00, 0x20, 0x01, 0x00, 0x00, 0x14, 0x01, 0x00, 0x00,\n",
            "  0x08, 0x01, 0x00, 0x00, 0x04, 0x00, 0x00, 0x00, 0x04, 0x00, 0x00, 0x00,\n",
            "  0xc0, 0x00, 0x00, 0x00, 0x78, 0x00, 0x00, 0x00, 0x34, 0x00, 0x00, 0x00,\n",
            "  0x10, 0x00, 0x00, 0x00, 0x00, 0x00, 0x0a, 0x00, 0x10, 0x00, 0x04, 0x00,\n",
            "  0x08, 0x00, 0x0c, 0x00, 0x0a, 0x00, 0x00, 0x00, 0x01, 0x00, 0x00, 0x00,\n",
            "  0x10, 0x00, 0x00, 0x00, 0x04, 0x00, 0x00, 0x00, 0x01, 0x00, 0x00, 0x00,\n",
            "  0x00, 0x00, 0x00, 0x00, 0x01, 0x00, 0x00, 0x00, 0x08, 0x00, 0x00, 0x00,\n",
            "  0xce, 0xff, 0xff, 0xff, 0x00, 0x00, 0x00, 0x08, 0x18, 0x00, 0x00, 0x00,\n",
            "  0x0c, 0x00, 0x00, 0x00, 0x04, 0x00, 0x00, 0x00, 0xf8, 0xfb, 0xff, 0xff,\n",
            "  0x01, 0x00, 0x00, 0x00, 0x08, 0x00, 0x00, 0x00, 0x03, 0x00, 0x00, 0x00,\n",
            "  0x07, 0x00, 0x00, 0x00, 0x09, 0x00, 0x00, 0x00, 0x0a, 0x00, 0x00, 0x00,\n",
            "  0x00, 0x00, 0x0e, 0x00, 0x14, 0x00, 0x00, 0x00, 0x08, 0x00, 0x0c, 0x00,\n",
            "  0x07, 0x00, 0x10, 0x00, 0x0e, 0x00, 0x00, 0x00, 0x00, 0x00, 0x00, 0x08,\n",
            "  0x1c, 0x00, 0x00, 0x00, 0x10, 0x00, 0x00, 0x00, 0x04, 0x00, 0x00, 0x00,\n",
            "  0xba, 0xff, 0xff, 0xff, 0x00, 0x00, 0x00, 0x01, 0x01, 0x00, 0x00, 0x00,\n",
            "  0x07, 0x00, 0x00, 0x00, 0x03, 0x00, 0x00, 0x00, 0x04, 0x00, 0x00, 0x00,\n",
            "  0x05, 0x00, 0x00, 0x00, 0x06, 0x00, 0x00, 0x00, 0x00, 0x00, 0x0e, 0x00,\n",
            "  0x16, 0x00, 0x00, 0x00, 0x08, 0x00, 0x0c, 0x00, 0x07, 0x00, 0x10, 0x00,\n",
            "  0x0e, 0x00, 0x00, 0x00, 0x00, 0x00, 0x00, 0x08, 0x24, 0x00, 0x00, 0x00,\n",
            "  0x18, 0x00, 0x00, 0x00, 0x0c, 0x00, 0x00, 0x00, 0x00, 0x00, 0x06, 0x00,\n",
            "  0x08, 0x00, 0x07, 0x00, 0x06, 0x00, 0x00, 0x00, 0x00, 0x00, 0x00, 0x01,\n",
            "  0x01, 0x00, 0x00, 0x00, 0x04, 0x00, 0x00, 0x00, 0x03, 0x00, 0x00, 0x00,\n",
            "  0x01, 0x00, 0x00, 0x00, 0x02, 0x00, 0x00, 0x00, 0x03, 0x00, 0x00, 0x00,\n",
            "  0x01, 0x00, 0x00, 0x00, 0x00, 0x00, 0x00, 0x00, 0x01, 0x00, 0x00, 0x00,\n",
            "  0x01, 0x00, 0x00, 0x00, 0x0b, 0x00, 0x00, 0x00, 0x34, 0x03, 0x00, 0x00,\n",
            "  0xcc, 0x02, 0x00, 0x00, 0x6c, 0x02, 0x00, 0x00, 0x24, 0x02, 0x00, 0x00,\n",
            "  0xe0, 0x01, 0x00, 0x00, 0x80, 0x01, 0x00, 0x00, 0x38, 0x01, 0x00, 0x00,\n",
            "  0xf4, 0x00, 0x00, 0x00, 0xac, 0x00, 0x00, 0x00, 0x4c, 0x00, 0x00, 0x00,\n",
            "  0x04, 0x00, 0x00, 0x00, 0x06, 0xfd, 0xff, 0xff, 0x38, 0x00, 0x00, 0x00,\n",
            "  0x02, 0x00, 0x00, 0x00, 0x0c, 0x00, 0x00, 0x00, 0x04, 0x00, 0x00, 0x00,\n",
            "  0xf8, 0xfc, 0xff, 0xff, 0x1e, 0x00, 0x00, 0x00, 0x73, 0x65, 0x71, 0x75,\n",
            "  0x65, 0x6e, 0x74, 0x69, 0x61, 0x6c, 0x2f, 0x64, 0x65, 0x6e, 0x73, 0x65,\n",
            "  0x5f, 0x32, 0x2f, 0x4d, 0x61, 0x74, 0x4d, 0x75, 0x6c, 0x5f, 0x62, 0x69,\n",
            "  0x61, 0x73, 0x00, 0x00, 0x01, 0x00, 0x00, 0x00, 0x03, 0x00, 0x00, 0x00,\n",
            "  0x4a, 0xfd, 0xff, 0xff, 0x4c, 0x00, 0x00, 0x00, 0x01, 0x00, 0x00, 0x00,\n",
            "  0x0c, 0x00, 0x00, 0x00, 0x04, 0x00, 0x00, 0x00, 0x3c, 0xfd, 0xff, 0xff,\n",
            "  0x32, 0x00, 0x00, 0x00, 0x73, 0x65, 0x71, 0x75, 0x65, 0x6e, 0x74, 0x69,\n",
            "  0x61, 0x6c, 0x2f, 0x64, 0x65, 0x6e, 0x73, 0x65, 0x5f, 0x32, 0x2f, 0x4d,\n",
            "  0x61, 0x74, 0x4d, 0x75, 0x6c, 0x2f, 0x52, 0x65, 0x61, 0x64, 0x56, 0x61,\n",
            "  0x72, 0x69, 0x61, 0x62, 0x6c, 0x65, 0x4f, 0x70, 0x2f, 0x74, 0x72, 0x61,\n",
            "  0x6e, 0x73, 0x70, 0x6f, 0x73, 0x65, 0x00, 0x00, 0x02, 0x00, 0x00, 0x00,\n",
            "  0x03, 0x00, 0x00, 0x00, 0x10, 0x00, 0x00, 0x00, 0xa6, 0xfd, 0xff, 0xff,\n",
            "  0x34, 0x00, 0x00, 0x00, 0x07, 0x00, 0x00, 0x00, 0x0c, 0x00, 0x00, 0x00,\n",
            "  0x04, 0x00, 0x00, 0x00, 0x98, 0xfd, 0xff, 0xff, 0x1a, 0x00, 0x00, 0x00,\n",
            "  0x73, 0x65, 0x71, 0x75, 0x65, 0x6e, 0x74, 0x69, 0x61, 0x6c, 0x2f, 0x64,\n",
            "  0x65, 0x6e, 0x73, 0x65, 0x5f, 0x32, 0x2f, 0x42, 0x69, 0x61, 0x73, 0x41,\n",
            "  0x64, 0x64, 0x00, 0x00, 0x02, 0x00, 0x00, 0x00, 0x01, 0x00, 0x00, 0x00,\n",
            "  0x03, 0x00, 0x00, 0x00, 0xea, 0xfd, 0xff, 0xff, 0x30, 0x00, 0x00, 0x00,\n",
            "  0x0b, 0x00, 0x00, 0x00, 0x0c, 0x00, 0x00, 0x00, 0x04, 0x00, 0x00, 0x00,\n",
            "  0xdc, 0xfd, 0xff, 0xff, 0x17, 0x00, 0x00, 0x00, 0x73, 0x65, 0x71, 0x75,\n",
            "  0x65, 0x6e, 0x74, 0x69, 0x61, 0x6c, 0x2f, 0x64, 0x65, 0x6e, 0x73, 0x65,\n",
            "  0x5f, 0x31, 0x2f, 0x52, 0x65, 0x6c, 0x75, 0x00, 0x02, 0x00, 0x00, 0x00,\n",
            "  0x01, 0x00, 0x00, 0x00, 0x10, 0x00, 0x00, 0x00, 0x2a, 0xfe, 0xff, 0xff,\n",
            "  0x38, 0x00, 0x00, 0x00, 0x03, 0x00, 0x00, 0x00, 0x0c, 0x00, 0x00, 0x00,\n",
            "  0x04, 0x00, 0x00, 0x00, 0x1c, 0xfe, 0xff, 0xff, 0x1e, 0x00, 0x00, 0x00,\n",
            "  0x73, 0x65, 0x71, 0x75, 0x65, 0x6e, 0x74, 0x69, 0x61, 0x6c, 0x2f, 0x64,\n",
            "  0x65, 0x6e, 0x73, 0x65, 0x5f, 0x31, 0x2f, 0x4d, 0x61, 0x74, 0x4d, 0x75,\n",
            "  0x6c, 0x5f, 0x62, 0x69, 0x61, 0x73, 0x00, 0x00, 0x01, 0x00, 0x00, 0x00,\n",
            "  0x10, 0x00, 0x00, 0x00, 0x6e, 0xfe, 0xff, 0xff, 0x4c, 0x00, 0x00, 0x00,\n",
            "  0x04, 0x00, 0x00, 0x00, 0x0c, 0x00, 0x00, 0x00, 0x04, 0x00, 0x00, 0x00,\n",
            "  0x60, 0xfe, 0xff, 0xff, 0x32, 0x00, 0x00, 0x00, 0x73, 0x65, 0x71, 0x75,\n",
            "  0x65, 0x6e, 0x74, 0x69, 0x61, 0x6c, 0x2f, 0x64, 0x65, 0x6e, 0x73, 0x65,\n",
            "  0x5f, 0x31, 0x2f, 0x4d, 0x61, 0x74, 0x4d, 0x75, 0x6c, 0x2f, 0x52, 0x65,\n",
            "  0x61, 0x64, 0x56, 0x61, 0x72, 0x69, 0x61, 0x62, 0x6c, 0x65, 0x4f, 0x70,\n",
            "  0x2f, 0x74, 0x72, 0x61, 0x6e, 0x73, 0x70, 0x6f, 0x73, 0x65, 0x00, 0x00,\n",
            "  0x02, 0x00, 0x00, 0x00, 0x10, 0x00, 0x00, 0x00, 0x10, 0x00, 0x00, 0x00,\n",
            "  0xca, 0xfe, 0xff, 0xff, 0x30, 0x00, 0x00, 0x00, 0x08, 0x00, 0x00, 0x00,\n",
            "  0x0c, 0x00, 0x00, 0x00, 0x04, 0x00, 0x00, 0x00, 0xbc, 0xfe, 0xff, 0xff,\n",
            "  0x15, 0x00, 0x00, 0x00, 0x73, 0x65, 0x71, 0x75, 0x65, 0x6e, 0x74, 0x69,\n",
            "  0x61, 0x6c, 0x2f, 0x64, 0x65, 0x6e, 0x73, 0x65, 0x2f, 0x52, 0x65, 0x6c,\n",
            "  0x75, 0x00, 0x00, 0x00, 0x02, 0x00, 0x00, 0x00, 0x01, 0x00, 0x00, 0x00,\n",
            "  0x10, 0x00, 0x00, 0x00, 0x0a, 0xff, 0xff, 0xff, 0x38, 0x00, 0x00, 0x00,\n",
            "  0x05, 0x00, 0x00, 0x00, 0x0c, 0x00, 0x00, 0x00, 0x04, 0x00, 0x00, 0x00,\n",
            "  0xfc, 0xfe, 0xff, 0xff, 0x1c, 0x00, 0x00, 0x00, 0x73, 0x65, 0x71, 0x75,\n",
            "  0x65, 0x6e, 0x74, 0x69, 0x61, 0x6c, 0x2f, 0x64, 0x65, 0x6e, 0x73, 0x65,\n",
            "  0x2f, 0x4d, 0x61, 0x74, 0x4d, 0x75, 0x6c, 0x5f, 0x62, 0x69, 0x61, 0x73,\n",
            "  0x00, 0x00, 0x00, 0x00, 0x01, 0x00, 0x00, 0x00, 0x10, 0x00, 0x00, 0x00,\n",
            "  0x4e, 0xff, 0xff, 0xff, 0x4c, 0x00, 0x00, 0x00, 0x09, 0x00, 0x00, 0x00,\n",
            "  0x0c, 0x00, 0x00, 0x00, 0x04, 0x00, 0x00, 0x00, 0x40, 0xff, 0xff, 0xff,\n",
            "  0x30, 0x00, 0x00, 0x00, 0x73, 0x65, 0x71, 0x75, 0x65, 0x6e, 0x74, 0x69,\n",
            "  0x61, 0x6c, 0x2f, 0x64, 0x65, 0x6e, 0x73, 0x65, 0x2f, 0x4d, 0x61, 0x74,\n",
            "  0x4d, 0x75, 0x6c, 0x2f, 0x52, 0x65, 0x61, 0x64, 0x56, 0x61, 0x72, 0x69,\n",
            "  0x61, 0x62, 0x6c, 0x65, 0x4f, 0x70, 0x2f, 0x74, 0x72, 0x61, 0x6e, 0x73,\n",
            "  0x70, 0x6f, 0x73, 0x65, 0x00, 0x00, 0x00, 0x00, 0x02, 0x00, 0x00, 0x00,\n",
            "  0x10, 0x00, 0x00, 0x00, 0x04, 0x00, 0x00, 0x00, 0xaa, 0xff, 0xff, 0xff,\n",
            "  0x44, 0x00, 0x00, 0x00, 0x06, 0x00, 0x00, 0x00, 0x2c, 0x00, 0x00, 0x00,\n",
            "  0x0c, 0x00, 0x00, 0x00, 0x08, 0x00, 0x0c, 0x00, 0x04, 0x00, 0x08, 0x00,\n",
            "  0x08, 0x00, 0x00, 0x00, 0x10, 0x00, 0x00, 0x00, 0x04, 0x00, 0x00, 0x00,\n",
            "  0x01, 0x00, 0x00, 0x00, 0x00, 0x00, 0x7f, 0x43, 0x01, 0x00, 0x00, 0x00,\n",
            "  0x00, 0x00, 0x00, 0x00, 0x0b, 0x00, 0x00, 0x00, 0x64, 0x65, 0x6e, 0x73,\n",
            "  0x65, 0x5f, 0x69, 0x6e, 0x70, 0x75, 0x74, 0x00, 0x02, 0x00, 0x00, 0x00,\n",
            "  0x01, 0x00, 0x00, 0x00, 0x04, 0x00, 0x00, 0x00, 0x00, 0x00, 0x0e, 0x00,\n",
            "  0x14, 0x00, 0x04, 0x00, 0x00, 0x00, 0x08, 0x00, 0x0c, 0x00, 0x10, 0x00,\n",
            "  0x0e, 0x00, 0x00, 0x00, 0x28, 0x00, 0x00, 0x00, 0x0a, 0x00, 0x00, 0x00,\n",
            "  0x10, 0x00, 0x00, 0x00, 0x08, 0x00, 0x00, 0x00, 0x04, 0x00, 0x04, 0x00,\n",
            "  0x04, 0x00, 0x00, 0x00, 0x08, 0x00, 0x00, 0x00, 0x49, 0x64, 0x65, 0x6e,\n",
            "  0x74, 0x69, 0x74, 0x79, 0x00, 0x00, 0x00, 0x00, 0x02, 0x00, 0x00, 0x00,\n",
            "  0x01, 0x00, 0x00, 0x00, 0x03, 0x00, 0x00, 0x00, 0x02, 0x00, 0x00, 0x00,\n",
            "  0x20, 0x00, 0x00, 0x00, 0x0c, 0x00, 0x00, 0x00, 0x00, 0x00, 0x06, 0x00,\n",
            "  0x06, 0x00, 0x05, 0x00, 0x06, 0x00, 0x00, 0x00, 0x00, 0x0e, 0x0a, 0x00,\n",
            "  0x0c, 0x00, 0x07, 0x00, 0x00, 0x00, 0x08, 0x00, 0x0a, 0x00, 0x00, 0x00,\n",
            "  0x00, 0x00, 0x00, 0x09, 0x03, 0x00, 0x00, 0x00\n",
            "};\n",
            "unsigned int exercice_model_tflite_len = 3152;\n"
          ],
          "name": "stdout"
        }
      ]
    },
    {
      "cell_type": "code",
      "metadata": {
        "id": "cL_9lDGJQtYU",
        "colab_type": "code",
        "outputId": "db974772-c937-474e-d90c-ca978baa1f76",
        "colab": {
          "base_uri": "https://localhost:8080/",
          "height": 527
        }
      },
      "source": [
        "for i in range(len(X_test_1)):\n",
        "  salida = str(X_test_1[i]) + str(y_test_ohe[i])\n",
        "  print(salida)"
      ],
      "execution_count": 23,
      "outputs": [
        {
          "output_type": "stream",
          "text": [
            "[6.9 3.1 5.4 2.1][0. 0. 1.]\n",
            "[7.2 3.2 6.  1.8][0. 0. 1.]\n",
            "[5.8 2.7 4.1 1. ][0. 1. 0.]\n",
            "[4.6 3.1 1.5 0.2][1. 0. 0.]\n",
            "[5.7 2.5 5.  2. ][0. 0. 1.]\n",
            "[6.9 3.1 4.9 1.5][0. 1. 0.]\n",
            "[5.7 3.8 1.7 0.3][1. 0. 0.]\n",
            "[6.4 3.1 5.5 1.8][0. 0. 1.]\n",
            "[5.4 3.4 1.7 0.2][1. 0. 0.]\n",
            "[5.6 2.9 3.6 1.3][0. 1. 0.]\n",
            "[6.1 2.8 4.7 1.2][0. 1. 0.]\n",
            "[4.8 3.1 1.6 0.2][1. 0. 0.]\n",
            "[7.1 3.  5.9 2.1][0. 0. 1.]\n",
            "[5.1 3.8 1.5 0.3][1. 0. 0.]\n",
            "[5.4 3.7 1.5 0.2][1. 0. 0.]\n",
            "[6.3 2.8 5.1 1.5][0. 0. 1.]\n",
            "[6.4 3.2 4.5 1.5][0. 1. 0.]\n",
            "[6.1 2.9 4.7 1.4][0. 1. 0.]\n",
            "[7.7 3.  6.1 2.3][0. 0. 1.]\n",
            "[5.2 3.4 1.4 0.2][1. 0. 0.]\n",
            "[6.4 3.2 5.3 2.3][0. 0. 1.]\n",
            "[4.8 3.  1.4 0.3][1. 0. 0.]\n",
            "[5.1 3.8 1.6 0.2][1. 0. 0.]\n",
            "[4.7 3.2 1.3 0.2][1. 0. 0.]\n",
            "[6.7 3.1 5.6 2.4][0. 0. 1.]\n",
            "[5.1 3.5 1.4 0.3][1. 0. 0.]\n",
            "[5.1 3.8 1.9 0.4][1. 0. 0.]\n",
            "[6.2 2.8 4.8 1.8][0. 0. 1.]\n",
            "[6.6 3.  4.4 1.4][0. 1. 0.]\n",
            "[5.6 2.5 3.9 1.1][0. 1. 0.]\n"
          ],
          "name": "stdout"
        }
      ]
    },
    {
      "cell_type": "code",
      "metadata": {
        "id": "JvMfBUHmQcLL",
        "colab_type": "code",
        "outputId": "94bb7ac3-8228-4d51-8903-b6857acc65a8",
        "colab": {
          "base_uri": "https://localhost:8080/",
          "height": 34
        }
      },
      "source": [
        "print(X_test_1.shape)"
      ],
      "execution_count": 24,
      "outputs": [
        {
          "output_type": "stream",
          "text": [
            "(30, 4)\n"
          ],
          "name": "stdout"
        }
      ]
    },
    {
      "cell_type": "code",
      "metadata": {
        "id": "tAZ_8HZHQjyf",
        "colab_type": "code",
        "outputId": "5a6e6c2e-5ae6-40d0-be41-c3c471e25a9d",
        "colab": {
          "base_uri": "https://localhost:8080/",
          "height": 527
        }
      },
      "source": [
        "print(y_test_ohe)"
      ],
      "execution_count": 26,
      "outputs": [
        {
          "output_type": "stream",
          "text": [
            "[[0. 0. 1.]\n",
            " [0. 0. 1.]\n",
            " [0. 1. 0.]\n",
            " [1. 0. 0.]\n",
            " [0. 0. 1.]\n",
            " [0. 1. 0.]\n",
            " [1. 0. 0.]\n",
            " [0. 0. 1.]\n",
            " [1. 0. 0.]\n",
            " [0. 1. 0.]\n",
            " [0. 1. 0.]\n",
            " [1. 0. 0.]\n",
            " [0. 0. 1.]\n",
            " [1. 0. 0.]\n",
            " [1. 0. 0.]\n",
            " [0. 0. 1.]\n",
            " [0. 1. 0.]\n",
            " [0. 1. 0.]\n",
            " [0. 0. 1.]\n",
            " [1. 0. 0.]\n",
            " [0. 0. 1.]\n",
            " [1. 0. 0.]\n",
            " [1. 0. 0.]\n",
            " [1. 0. 0.]\n",
            " [0. 0. 1.]\n",
            " [1. 0. 0.]\n",
            " [1. 0. 0.]\n",
            " [0. 0. 1.]\n",
            " [0. 1. 0.]\n",
            " [0. 1. 0.]]\n"
          ],
          "name": "stdout"
        }
      ]
    }
  ]
}